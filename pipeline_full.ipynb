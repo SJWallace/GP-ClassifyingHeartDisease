{
 "cells": [
  {
   "cell_type": "code",
   "id": "3748388acf369748",
   "metadata": {
    "ExecuteTime": {
     "end_time": "2024-12-19T04:08:14.580708Z",
     "start_time": "2024-12-19T04:08:14.485514Z"
    }
   },
   "source": [
    "import pandas as pd\n",
    "import seaborn as sns\n",
    "import matplotlib.pyplot as plt\n",
    "import numpy as np\n",
    "from sklearn.pipeline import Pipeline\n",
    "from sklearn.preprocessing import RobustScaler, StandardScaler, OneHotEncoder, MinMaxScaler\n",
    "from sklearn.linear_model import LogisticRegression\n",
    "from sklearn.compose import ColumnTransformer\n",
    "from sklearn.model_selection import train_test_split"
   ],
   "outputs": [],
   "execution_count": 1
  },
  {
   "metadata": {
    "collapsed": true,
    "ExecuteTime": {
     "end_time": "2024-12-19T04:08:14.586113Z",
     "start_time": "2024-12-19T04:08:14.581713Z"
    }
   },
   "cell_type": "code",
   "source": "heart_disease = pd.read_csv('heart_disease.csv')",
   "id": "initial_id",
   "outputs": [],
   "execution_count": 2
  },
  {
   "metadata": {},
   "cell_type": "markdown",
   "source": [
    "# Table of contents\n",
    "1. [Introduction](#introduction)\n",
    "2. [Data exploration](#data-exploration)\n",
    "3. [Data preparation](#data-preparation)\n",
    "4. [Pipeline construction](#pipeline-construction)\n",
    "5. [Initial fit results](#initial-fit-results)\n",
    "6. [Improving the model](#improving-the-model)\n",
    "7. [RFECV Pipeline construction](#rfecv-pipeline-construction)\n",
    "8. [RFECV Pipeline results](#rfecv-pipeline-results)\n",
    "9. [Hyperparameter Optimisation](#hyperparameter-optimisation)\n",
    "10. [Final results](#final-results)\n",
    "11. [Conclusion and next steps](#conclusion-and-next-steps)\n",
    "\n",
    "\n",
    "## Introduction\n",
    "\n",
    "## Data Exploration\n",
    "\n",
    "From https://archive.ics.uci.edu/dataset/45/heart+disease\n",
    "\n",
    "| Variable Name | Code   | Role     | Type          | Demographic                | Description                                     | Units   | Missing Values |\n",
    "|-----|--------|----------|---------------|----------------------------|-------------------------------------------------|---------|----------------|\n",
    "| `age` | #3     | Feature  | Integer       | Age                        | Age in years                                   | years   | no             |\n",
    "| `sex` | #4     | Feature  | Categorical   | Sex                        | Sex (1 = male; 0 = female)                     |         | no             |\n",
    "| `cp` | #9     | Feature  | Categorical   |                            | Chest pain type: 1 = typical angina, 2 = atypical angina, 3 = non-anginal pain, 4 = asymptomatic |         | no             |\n",
    "| `trestbps` | #10    | Feature  | Integer       |                            | Resting blood pressure (in mm Hg on admission to the hospital) | mm Hg   | no             |\n",
    "| `chol` | #12    | Feature  | Integer       |                            | Serum cholesterol in mg/dl                     | mg/dl   | no             |\n",
    "| `fbs` | #16    | Feature  | Categorical   |                            | Fasting blood sugar > 120 mg/dl (1 = true; 0 = false) |         | no             |\n",
    "| `restecg` | #19    | Feature  | Categorical   |                            | Resting electrocardiographic results: 0 = normal, 1 = ST-T wave abnormality, 2 = left ventricular hypertrophy |         | no             |\n",
    "| `thalach` | #32    | Feature  | Integer       |                            | Maximum heart rate achieved                    |         | no             |\n",
    "| `exang`| #38    | Feature  | Categorical   |                            | Exercise-induced angina (1 = yes; 0 = no)      |         | no             |\n",
    "| `oldpeak` | #40    | Feature  | Integer       |                            | ST depression induced by exercise relative to rest |         | no             |\n",
    "| `slope`| #41    | Feature  | Categorical   |                            | Slope of the peak exercise ST segment: 1 = upsloping, 2 = flat, 3 = downsloping |         | no             |\n",
    "| `ca`| #44    | Feature  | Integer       |                            | Number of major vessels (0–3) colored by fluoroscopy |         | yes            |\n",
    "| `thal`| #51    | Feature  | Categorical   |                            | Thal: 3 = normal, 6 = fixed defect, 7 = reversible defect |         | yes            |\n",
    "| `num`| #58    | Target   | Integer       |                            | Diagnosis of heart disease (angiographic disease status): 0 = <50% diameter narrowing, 1 = >50% |         | no             |"
   ],
   "id": "5800c9fc2d7b7bc7"
  },
  {
   "metadata": {},
   "cell_type": "markdown",
   "source": [
    "## Data Preparation\n",
    "Let's assign the column names to numeric or categorical features based on data description"
   ],
   "id": "e3b71da3b782ae9f"
  },
  {
   "metadata": {
    "ExecuteTime": {
     "end_time": "2024-12-19T04:08:14.782758Z",
     "start_time": "2024-12-19T04:08:14.780328Z"
    }
   },
   "cell_type": "code",
   "source": [
    "numeric_features = [\n",
    "\t'age', 'trestbps', 'chol', 'thalach', 'oldpeak', 'ca'\n",
    "]\n",
    "categorical_features = [\n",
    "\t'sex', 'cp', 'fbs', 'restecg', 'exang', 'slope', 'thal'\n",
    "]\n"
   ],
   "id": "837747aedbc3f013",
   "outputs": [],
   "execution_count": 3
  },
  {
   "metadata": {},
   "cell_type": "markdown",
   "source": [
    "### Missing data\n",
    "The `ca` and `thal` features are flagged as missing values"
   ],
   "id": "55ab4fe548ab6fd6"
  },
  {
   "metadata": {
    "ExecuteTime": {
     "end_time": "2024-12-19T04:08:14.796025Z",
     "start_time": "2024-12-19T04:08:14.791764Z"
    }
   },
   "cell_type": "code",
   "source": "heart_disease['ca'].value_counts()",
   "id": "8b6c880581832ca4",
   "outputs": [
    {
     "data": {
      "text/plain": [
       "ca\n",
       "0.0    176\n",
       "1.0     65\n",
       "2.0     38\n",
       "3.0     20\n",
       "?        4\n",
       "Name: count, dtype: int64"
      ]
     },
     "execution_count": 4,
     "metadata": {},
     "output_type": "execute_result"
    }
   ],
   "execution_count": 4
  },
  {
   "metadata": {
    "ExecuteTime": {
     "end_time": "2024-12-19T04:08:14.834899Z",
     "start_time": "2024-12-19T04:08:14.831429Z"
    }
   },
   "cell_type": "code",
   "source": "heart_disease['thal'].value_counts()",
   "id": "eb8f5f4cfbdce89c",
   "outputs": [
    {
     "data": {
      "text/plain": [
       "thal\n",
       "3.0    166\n",
       "7.0    117\n",
       "6.0     18\n",
       "?        2\n",
       "Name: count, dtype: int64"
      ]
     },
     "execution_count": 5,
     "metadata": {},
     "output_type": "execute_result"
    }
   ],
   "execution_count": 5
  },
  {
   "metadata": {},
   "cell_type": "markdown",
   "source": [
    "Only a few missing values, easier to just drop the rows and convert the rest to ints\n",
    "\n",
    "### Drop rows with '?'\n",
    "Let's just drop the data from the frame"
   ],
   "id": "368936f3646938ff"
  },
  {
   "metadata": {
    "ExecuteTime": {
     "end_time": "2024-12-19T04:08:14.936501Z",
     "start_time": "2024-12-19T04:08:14.933458Z"
    }
   },
   "cell_type": "code",
   "source": [
    "# Drop missing values\n",
    "heart_disease = heart_disease[~heart_disease.isin(['?']).any(axis=1)]"
   ],
   "id": "97955c9dc86a1236",
   "outputs": [],
   "execution_count": 6
  },
  {
   "metadata": {},
   "cell_type": "markdown",
   "source": [
    "### Converting columns to numeric\n",
    "The `ca` and `thal` columns are strings. They need to be made numeric"
   ],
   "id": "8fa3f182c40ac3d0"
  },
  {
   "metadata": {
    "ExecuteTime": {
     "end_time": "2024-12-19T04:08:15.042810Z",
     "start_time": "2024-12-19T04:08:15.039730Z"
    }
   },
   "cell_type": "code",
   "source": [
    "# Convert the `ca` and `thal` columns to numeric\n",
    "heart_disease['ca'] = pd.to_numeric(heart_disease['ca'])\n",
    "heart_disease['thal'] = pd.to_numeric(heart_disease['thal'])"
   ],
   "id": "e582a7425863c709",
   "outputs": [],
   "execution_count": 7
  },
  {
   "metadata": {},
   "cell_type": "markdown",
   "source": [
    "### Drop index column\n",
    "The index column that is unnamed at the start provides no value for a fit, so we'll drop it too"
   ],
   "id": "287159b2062963c1"
  },
  {
   "metadata": {
    "ExecuteTime": {
     "end_time": "2024-12-19T04:08:15.099170Z",
     "start_time": "2024-12-19T04:08:15.096034Z"
    }
   },
   "cell_type": "code",
   "source": [
    "# Drop the unnamed (index) column\n",
    "heart_disease = heart_disease.drop(heart_disease.columns[0], axis=1)"
   ],
   "id": "43e78a77349295be",
   "outputs": [],
   "execution_count": 8
  },
  {
   "metadata": {},
   "cell_type": "markdown",
   "source": [
    "### Dataset split\n",
    "We still need to split the data set into test, training and validation sets. We'll stratify by our target, so each data set contains a similar ratio."
   ],
   "id": "7091712e5f5b1ade"
  },
  {
   "metadata": {
    "ExecuteTime": {
     "end_time": "2024-12-19T04:08:15.180490Z",
     "start_time": "2024-12-19T04:08:15.175630Z"
    }
   },
   "cell_type": "code",
   "source": [
    "# Split data into X (features) and y (target)\n",
    "X = heart_disease.drop(columns=['present'])  # Drop the first column (index)\n",
    "y = heart_disease['present']\n",
    "\n",
    "# Split into training + validation and test sets\n",
    "X_train_val, X_test, y_train_val, y_test = train_test_split(X, y, test_size=0.3, random_state=42, stratify=y)\n",
    "\n",
    "# Further split training + validation set into training and validation sets\n",
    "X_train, X_val, y_train, y_val = train_test_split(X_train_val, y_train_val, test_size=0.25, random_state=42,\n",
    "\t\t\t\t\t\t\t\t\t\t\t\t  stratify=y_train_val)\n",
    "\n"
   ],
   "id": "8a379ff1a92d7055",
   "outputs": [],
   "execution_count": 9
  },
  {
   "metadata": {
    "ExecuteTime": {
     "end_time": "2024-12-19T04:08:15.224724Z",
     "start_time": "2024-12-19T04:08:15.219496Z"
    }
   },
   "cell_type": "code",
   "source": [
    "# Display the number of samples in each set in a table\n",
    "data_counts = {\n",
    "\t\"Set\": [\"Full Dataset\", \"Training Set\", \"Validation Set\", \"Test Set\"],\n",
    "\t\"Samples\": [len(y), len(y_train), len(y_val), len(y_test)],\n",
    "\t\"Presence (1)\": [y.sum(), y_train.sum(), y_val.sum(), y_test.sum()],\n",
    "\t\"Absence (0)\": [len(y) - y.sum(), len(y_train) - y_train.sum(), len(y_val) - y_val.sum(),\n",
    "\t\t\t\t\tlen(y_test) - y_test.sum()],\n",
    "\t\"Ratio (Presence/Absence)\": [\n",
    "\t\ty.sum() / (len(y) - y.sum()),\n",
    "\t\ty_train.sum() / (len(y_train) - y_train.sum()),\n",
    "\t\ty_val.sum() / (len(y_val) - y_val.sum()),\n",
    "\t\ty_test.sum() / (len(y_test) - y_test.sum())\n",
    "\t]\n",
    "}\n",
    "table = pd.DataFrame(data_counts)\n",
    "print(\"\\nNumber of samples in each set (with presence and absence counts):\")\n",
    "print(table)"
   ],
   "id": "b38160631afb0698",
   "outputs": [
    {
     "name": "stdout",
     "output_type": "stream",
     "text": [
      "\n",
      "Number of samples in each set (with presence and absence counts):\n",
      "              Set  Samples  Presence (1)  Absence (0)  \\\n",
      "0    Full Dataset      297           137          160   \n",
      "1    Training Set      155            71           84   \n",
      "2  Validation Set       52            24           28   \n",
      "3        Test Set       90            42           48   \n",
      "\n",
      "   Ratio (Presence/Absence)  \n",
      "0                  0.856250  \n",
      "1                  0.845238  \n",
      "2                  0.857143  \n",
      "3                  0.875000  \n"
     ]
    }
   ],
   "execution_count": 10
  },
  {
   "metadata": {},
   "cell_type": "markdown",
   "source": [
    "### Scaling\n",
    "For the numeric features, we need to work out what transforms will be appropriate based upon their distributions"
   ],
   "id": "b4612da5dd8b7df3"
  },
  {
   "metadata": {
    "ExecuteTime": {
     "end_time": "2024-12-19T04:08:15.821541Z",
     "start_time": "2024-12-19T04:08:15.278009Z"
    }
   },
   "cell_type": "code",
   "source": [
    "colors = ['red', 'blue', 'green', 'purple', 'orange', 'pink']  # Define a list of colors for the plots\n",
    "\n",
    "fig, axes = plt.subplots(nrows=(len(numeric_features) + 1) // 2, ncols=2, figsize=(16, 12))\n",
    "axes = axes.flatten()\n",
    "\n",
    "for i, column in enumerate(numeric_features):\n",
    "\tsns.histplot(heart_disease[column], kde=True, bins=\"auto\", color=colors[i % len(colors)], ax=axes[i])\n",
    "\taxes[i].set_title(f'Distribution of {column}')\n",
    "\taxes[i].set_xlabel(column)\n",
    "\taxes[i].set_ylabel('Frequency')\n",
    "\n",
    "# Remove any empty subplots\n",
    "for j in range(i + 1, len(axes)):\n",
    "\tfig.delaxes(axes[j])\n",
    "\n",
    "plt.tight_layout()\n",
    "plt.show()"
   ],
   "id": "38d2c2683e4a7810",
   "outputs": [
    {
     "data": {
      "text/plain": [
       "<Figure size 1600x1200 with 6 Axes>"
      ],
      "image/png": "[encoded data removed]"
     },
     "metadata": {},
     "output_type": "display_data"
    }
   ],
   "execution_count": 11
  },
  {
   "metadata": {},
   "cell_type": "markdown",
   "source": [
    "### Comments\n",
    "Generally it appears as all these distributions contain one primary distribution, and a secondary smaller peak. `oldpeak` and `ca` are heavily skewed to the 0 result, because there are no negative results that make sense\n",
    "### Scaling required\n",
    "- `age`, `trestbps`, `thalach` are approximately normally distributed so StandardScaler will work fine\n",
    "- `chol` appears to be right skewed, and has some outliers, we'll need to use RobustScaler\n",
    "- `oldpeak` is heavily right skewed, so we'll need to use a MinMax or QuantileTransformer\n",
    "- `ca` is also heavily right skewed, so we'll need to use a MinMax or QuantileTransformer\n",
    "\n",
    "## Pipeline construction\n",
    "The pipeline module of sci-kit learn allows us to construct a data pipeline. The data pipeline can perform all the transforms we'd need to do to our data, but encapsulate them in an object so it's easier to access their properties. In addition, once we have a pipeline, it's possible to perform hyperparameter searches on multiple steps in the pipeline, rather than just one. For example, we could perform a hyperparameter search that modifies the parameters of the scalers or encoders before getting to the logistic regression component\n",
    "\n",
    "Based on what we learnt from the numeric distributions, we'll make a `scaling_encoding` ColumnTransformer that will apply the appropriate scalers or encoders to the columns in our dataset.\n",
    "\n",
    "The general syntax  for the `ColumnTransformer` is `(str, transformer, columns_to_apply)`\n",
    "Where the `str` is just a way to name and access that step, the `transformer` is any of the preprocessing transformers. We could give them all unique and easier to remember names, but the input column name is fine for now.\n",
    "\n",
    "The advantage of a pipeline is that we could fairly easily swap out the `MinMaxScaler()` for a `QuantileTransformer()`, or we could try to use `KBinsDiscretizer()` on the `age` column given the small number of samples. It also prevents issues with Jupyter notebooks and order of operation of cells when modifying code. It's also useful in Data Engineering to construct a pipeline that the raw data goes into, and a working model comes out the other end.\n"
   ],
   "id": "e8c2be833f103828"
  },
  {
   "metadata": {
    "ExecuteTime": {
     "end_time": "2024-12-19T04:08:15.826839Z",
     "start_time": "2024-12-19T04:08:15.824545Z"
    }
   },
   "cell_type": "code",
   "source": [
    "scaling_encoding = ColumnTransformer(transformers=[\n",
    "\t('num', StandardScaler(), ['age', 'trestbps', 'thalach']),\n",
    "\t('chol', RobustScaler(), ['chol']),\n",
    "\t('oldpeak', MinMaxScaler(), ['oldpeak']),\n",
    "\t('ca_num', MinMaxScaler(), ['ca']),  # For numeric features of 'ca'\n",
    "\t('cp', OneHotEncoder(handle_unknown='infrequent_if_exist'), ['cp']),\n",
    "\t('restecg', OneHotEncoder(handle_unknown='infrequent_if_exist'), ['restecg']),\n",
    "\t('slope', OneHotEncoder(handle_unknown='infrequent_if_exist'), ['slope']),\n",
    "\t# ('ca_cat', OneHotEncoder(handle_unknown='infrequent_if_exist'), ['ca']),  # For categorical features of 'ca'\n",
    "\t('thal', OneHotEncoder(handle_unknown='infrequent_if_exist'), ['thal']),\n",
    "\t('exang', \"passthrough\", ['exang']),\n",
    "\t('fbs', \"passthrough\", ['fbs']),\n",
    "\t('sex', \"passthrough\", ['sex']),\n",
    "])"
   ],
   "id": "d4e2040f2d090128",
   "outputs": [],
   "execution_count": 12
  },
  {
   "metadata": {},
   "cell_type": "markdown",
   "source": "The pipeline is a fairly simple preprocessor that we defined above, followed by a classifier, in this case LogisticRegression",
   "id": "b5e1f8b92c59da4d"
  },
  {
   "metadata": {
    "ExecuteTime": {
     "end_time": "2024-12-19T04:08:15.862667Z",
     "start_time": "2024-12-19T04:08:15.860470Z"
    }
   },
   "cell_type": "code",
   "source": [
    "pipeline = Pipeline(steps=[\n",
    "\t('preprocessor', scaling_encoding),\n",
    "\t('classifier', LogisticRegression(max_iter=1000, random_state=42, solver='lbfgs'))\n",
    "])"
   ],
   "id": "d2d5fb589f58e8c9",
   "outputs": [],
   "execution_count": 13
  },
  {
   "metadata": {},
   "cell_type": "markdown",
   "source": [
    "# Dataset split\n",
    "At a glance, the distribution of heart disease in the different sets seems to be consistent"
   ],
   "id": "dc2230b658bd7c2c"
  },
  {
   "metadata": {
    "ExecuteTime": {
     "end_time": "2024-12-19T04:08:15.886590Z",
     "start_time": "2024-12-19T04:08:15.870673Z"
    }
   },
   "cell_type": "code",
   "source": [
    "# Fit the pipeline on the training data\n",
    "pipeline.fit(X_train, y_train)\n",
    "\n",
    "# Evaluate the pipeline on validation data\n",
    "y_val_pred = pipeline.predict(X_val)"
   ],
   "id": "5f93250c3bf61eb",
   "outputs": [],
   "execution_count": 14
  },
  {
   "metadata": {
    "ExecuteTime": {
     "end_time": "2024-12-19T04:08:15.954684Z",
     "start_time": "2024-12-19T04:08:15.905418Z"
    }
   },
   "cell_type": "code",
   "source": [
    "from sklearn.metrics import confusion_matrix, f1_score\n",
    "\n",
    "\n",
    "def model_metrics(y_val, y_val_pred, title=\"Validation Set Metrics\"):\n",
    "\t# Get confusion matrix\n",
    "\tcm = confusion_matrix(y_val, y_val_pred)\n",
    "\t# Extract components of confusion matrix\n",
    "\ttn, fp, fn, tp = cm.ravel()\n",
    "\t# Calculate metrics\n",
    "\tsensitivity = tp / (tp + fn)  # True Positive Rate (Recall)\n",
    "\tspecificity = tn / (tn + fp)  # True Negative Rate\n",
    "\tprecision = tp / (tp + fp)  # Positive Predictive Value\n",
    "\taccuracy = (tp + tn) / (tp + tn + fp + fn)\n",
    "\tf1 = f1_score(y_val, y_val_pred)  # F1 Score\n",
    "\n",
    "\t# Plot confusion matrix heatmap\n",
    "\tplt.figure(figsize=(5, 3))  # Increased figure width for better layout\n",
    "\tsns.heatmap(cm, annot=True, fmt=\"d\", cmap=\"Blues\", cbar=False, xticklabels=[\"No Disease\", \"Disease\"],\n",
    "\t\t\t\tyticklabels=[\"No Disease\", \"Disease\"])\n",
    "\tplt.title(title)\n",
    "\tplt.xlabel(\"Predicted\")\n",
    "\tplt.ylabel(\"Actual\")\n",
    "\n",
    "\t# Add metrics text to the right of the plot with adjusted position\n",
    "\tmetrics_text = (\n",
    "\t\tf\"Sensitivity:  {sensitivity:.2f}\\n\"\n",
    "\t\tf\"Specificity:  {specificity:.2f}\\n\"\n",
    "\t\tf\"Precision:    {precision:.2f}\\n\"\n",
    "\t\tf\"Accuracy:     {accuracy:.2f}\\n\"\n",
    "\t\tf\"F1 Score:     {f1:.2f}\"\n",
    "\t)\n",
    "\tplt.gcf().text(\n",
    "\t\t1.1, 0.5, metrics_text, fontsize=8, family=\"monospace\",  # Set font family to monospace\n",
    "\t\tbbox=dict(facecolor='lightgray', edgecolor='black', boxstyle='round,pad=0.75'),\n",
    "\t\ttransform=plt.gca().transAxes, va='center'\n",
    "\t)\n",
    "\tplt.tight_layout(h_pad=5, w_pad=5)\n",
    "\tplt.show()\n",
    "\n",
    "\n",
    "model_metrics(y_val, y_val_pred)"
   ],
   "id": "b86aee5c2ba98f9b",
   "outputs": [
    {
     "data": {
      "text/plain": [
       "<Figure size 500x300 with 1 Axes>"
      ],
      "image/png": "[encoded data removed]"
     },
     "metadata": {},
     "output_type": "display_data"
    }
   ],
   "execution_count": 15
  },
  {
   "metadata": {
    "ExecuteTime": {
     "end_time": "2024-12-19T04:08:16.023331Z",
     "start_time": "2024-12-19T04:08:15.974794Z"
    }
   },
   "cell_type": "code",
   "source": [
    "# Evaluate the pipeline on the test data\n",
    "y_test_pred = pipeline.predict(X_test)\n",
    "\n",
    "model_metrics(y_test, y_test_pred, \"Test Set Metrics\")"
   ],
   "id": "d816c714fac8b52",
   "outputs": [
    {
     "data": {
      "text/plain": [
       "<Figure size 500x300 with 1 Axes>"
      ],
      "image/png": "[encoded data removed]"
     },
     "metadata": {},
     "output_type": "display_data"
    }
   ],
   "execution_count": 16
  },
  {
   "metadata": {},
   "cell_type": "markdown",
   "source": [
    "## Initial fit results\n",
    "The validation set gives an F1 score of 0.76, which isn't great, but for a very quick logistic regression, it's ok. When we apply the same prediction to the test set, we see F1 score of 0.81. Indicating that any of the metrics we're using are going to have some variability of +/- 0.05 based on how the data split occurred. Note, it's probably not good practice to look at the test set until the model is done, but it's important to get a feel for how the scores we're optimising for can vary. We won't look at the test data set again until the end.\n",
    "\n",
    "We're using F1 score because we don't have the domain knowledge to expertise to know whether minimising false negatives or false positives is the ultimate goal. Once constructed, it would be trivial to modify the code to select for one over the other. F1 aims for positive predictive power, emphasising precision and sensitivity\n",
    "\n"
   ],
   "id": "8eaf2407a4a09aba"
  },
  {
   "metadata": {
    "ExecuteTime": {
     "end_time": "2024-12-19T04:08:16.050464Z",
     "start_time": "2024-12-19T04:08:16.045316Z"
    }
   },
   "cell_type": "code",
   "source": [
    "# Retrieve column names and coefficients from the pipeline\n",
    "feature_names = scaling_encoding.get_feature_names_out()\n",
    "coefficients = pipeline.named_steps['classifier'].coef_[0]\n",
    "log_odds = [np.exp(coef) for coef in coefficients]\n",
    "\n",
    "# Combine feature names and coefficients into a DataFrame for better readability\n",
    "coef_df = pd.DataFrame({'Feature': feature_names, 'Log-Odds': coefficients, 'Odds': log_odds})\n",
    "\n",
    "# Display the dataframe in descending order by 'Log-Odds'\n",
    "coef_df = coef_df.sort_values(by='Log-Odds', ascending=False)\n",
    "coef_df"
   ],
   "id": "f90d32b89f68a6f2",
   "outputs": [
    {
     "data": {
      "text/plain": [
       "               Feature  Log-Odds      Odds\n",
       "5           ca_num__ca  2.008472  7.451923\n",
       "9             cp__cp_4  1.348733  3.852543\n",
       "21            sex__sex  0.894836  2.446934\n",
       "4     oldpeak__oldpeak  0.788733  2.200607\n",
       "18      thal__thal_7.0  0.652639  1.920603\n",
       "15      slope__slope_3  0.569379  1.767169\n",
       "19        exang__exang  0.539339  1.714874\n",
       "12  restecg__restecg_2  0.298981  1.348484\n",
       "1        num__trestbps  0.237414  1.267966\n",
       "3           chol__chol  0.220511  1.246714\n",
       "0             num__age  0.217731  1.243253\n",
       "14      slope__slope_2  0.200641  1.222186\n",
       "11  restecg__restecg_1  0.127170  1.135610\n",
       "17      thal__thal_6.0 -0.007792  0.992238\n",
       "20            fbs__fbs -0.031728  0.968770\n",
       "7             cp__cp_2 -0.052378  0.948970\n",
       "2         num__thalach -0.062084  0.939804\n",
       "10  restecg__restecg_0 -0.423580  0.654699\n",
       "6             cp__cp_1 -0.578819  0.560560\n",
       "16      thal__thal_3.0 -0.642276  0.526093\n",
       "8             cp__cp_3 -0.714965  0.489209\n",
       "13      slope__slope_1 -0.767449  0.464196"
      ],
      "text/html": [
       "<div>\n",
       "<style scoped>\n",
       "    .dataframe tbody tr th:only-of-type {\n",
       "        vertical-align: middle;\n",
       "    }\n",
       "\n",
       "    .dataframe tbody tr th {\n",
       "        vertical-align: top;\n",
       "    }\n",
       "\n",
       "    .dataframe thead th {\n",
       "        text-align: right;\n",
       "    }\n",
       "</style>\n",
       "<table border=\"1\" class=\"dataframe\">\n",
       "  <thead>\n",
       "    <tr style=\"text-align: right;\">\n",
       "      <th></th>\n",
       "      <th>Feature</th>\n",
       "      <th>Log-Odds</th>\n",
       "      <th>Odds</th>\n",
       "    </tr>\n",
       "  </thead>\n",
       "  <tbody>\n",
       "    <tr>\n",
       "      <th>5</th>\n",
       "      <td>ca_num__ca</td>\n",
       "      <td>2.008472</td>\n",
       "      <td>7.451923</td>\n",
       "    </tr>\n",
       "    <tr>\n",
       "      <th>9</th>\n",
       "      <td>cp__cp_4</td>\n",
       "      <td>1.348733</td>\n",
       "      <td>3.852543</td>\n",
       "    </tr>\n",
       "    <tr>\n",
       "      <th>21</th>\n",
       "      <td>sex__sex</td>\n",
       "      <td>0.894836</td>\n",
       "      <td>2.446934</td>\n",
       "    </tr>\n",
       "    <tr>\n",
       "      <th>4</th>\n",
       "      <td>oldpeak__oldpeak</td>\n",
       "      <td>0.788733</td>\n",
       "      <td>2.200607</td>\n",
       "    </tr>\n",
       "    <tr>\n",
       "      <th>18</th>\n",
       "      <td>thal__thal_7.0</td>\n",
       "      <td>0.652639</td>\n",
       "      <td>1.920603</td>\n",
       "    </tr>\n",
       "    <tr>\n",
       "      <th>15</th>\n",
       "      <td>slope__slope_3</td>\n",
       "      <td>0.569379</td>\n",
       "      <td>1.767169</td>\n",
       "    </tr>\n",
       "    <tr>\n",
       "      <th>19</th>\n",
       "      <td>exang__exang</td>\n",
       "      <td>0.539339</td>\n",
       "      <td>1.714874</td>\n",
       "    </tr>\n",
       "    <tr>\n",
       "      <th>12</th>\n",
       "      <td>restecg__restecg_2</td>\n",
       "      <td>0.298981</td>\n",
       "      <td>1.348484</td>\n",
       "    </tr>\n",
       "    <tr>\n",
       "      <th>1</th>\n",
       "      <td>num__trestbps</td>\n",
       "      <td>0.237414</td>\n",
       "      <td>1.267966</td>\n",
       "    </tr>\n",
       "    <tr>\n",
       "      <th>3</th>\n",
       "      <td>chol__chol</td>\n",
       "      <td>0.220511</td>\n",
       "      <td>1.246714</td>\n",
       "    </tr>\n",
       "    <tr>\n",
       "      <th>0</th>\n",
       "      <td>num__age</td>\n",
       "      <td>0.217731</td>\n",
       "      <td>1.243253</td>\n",
       "    </tr>\n",
       "    <tr>\n",
       "      <th>14</th>\n",
       "      <td>slope__slope_2</td>\n",
       "      <td>0.200641</td>\n",
       "      <td>1.222186</td>\n",
       "    </tr>\n",
       "    <tr>\n",
       "      <th>11</th>\n",
       "      <td>restecg__restecg_1</td>\n",
       "      <td>0.127170</td>\n",
       "      <td>1.135610</td>\n",
       "    </tr>\n",
       "    <tr>\n",
       "      <th>17</th>\n",
       "      <td>thal__thal_6.0</td>\n",
       "      <td>-0.007792</td>\n",
       "      <td>0.992238</td>\n",
       "    </tr>\n",
       "    <tr>\n",
       "      <th>20</th>\n",
       "      <td>fbs__fbs</td>\n",
       "      <td>-0.031728</td>\n",
       "      <td>0.968770</td>\n",
       "    </tr>\n",
       "    <tr>\n",
       "      <th>7</th>\n",
       "      <td>cp__cp_2</td>\n",
       "      <td>-0.052378</td>\n",
       "      <td>0.948970</td>\n",
       "    </tr>\n",
       "    <tr>\n",
       "      <th>2</th>\n",
       "      <td>num__thalach</td>\n",
       "      <td>-0.062084</td>\n",
       "      <td>0.939804</td>\n",
       "    </tr>\n",
       "    <tr>\n",
       "      <th>10</th>\n",
       "      <td>restecg__restecg_0</td>\n",
       "      <td>-0.423580</td>\n",
       "      <td>0.654699</td>\n",
       "    </tr>\n",
       "    <tr>\n",
       "      <th>6</th>\n",
       "      <td>cp__cp_1</td>\n",
       "      <td>-0.578819</td>\n",
       "      <td>0.560560</td>\n",
       "    </tr>\n",
       "    <tr>\n",
       "      <th>16</th>\n",
       "      <td>thal__thal_3.0</td>\n",
       "      <td>-0.642276</td>\n",
       "      <td>0.526093</td>\n",
       "    </tr>\n",
       "    <tr>\n",
       "      <th>8</th>\n",
       "      <td>cp__cp_3</td>\n",
       "      <td>-0.714965</td>\n",
       "      <td>0.489209</td>\n",
       "    </tr>\n",
       "    <tr>\n",
       "      <th>13</th>\n",
       "      <td>slope__slope_1</td>\n",
       "      <td>-0.767449</td>\n",
       "      <td>0.464196</td>\n",
       "    </tr>\n",
       "  </tbody>\n",
       "</table>\n",
       "</div>"
      ]
     },
     "execution_count": 17,
     "metadata": {},
     "output_type": "execute_result"
    }
   ],
   "execution_count": 17
  },
  {
   "metadata": {
    "ExecuteTime": {
     "end_time": "2024-12-19T04:08:16.092723Z",
     "start_time": "2024-12-19T04:08:16.088447Z"
    }
   },
   "cell_type": "code",
   "source": "heart_disease['cp'].value_counts()",
   "id": "61bbcbf919b3bc94",
   "outputs": [
    {
     "data": {
      "text/plain": [
       "cp\n",
       "4    142\n",
       "3     83\n",
       "2     49\n",
       "1     23\n",
       "Name: count, dtype: int64"
      ]
     },
     "execution_count": 18,
     "metadata": {},
     "output_type": "execute_result"
    }
   ],
   "execution_count": 18
  },
  {
   "metadata": {
    "ExecuteTime": {
     "end_time": "2024-12-19T04:08:16.127263Z",
     "start_time": "2024-12-19T04:08:16.123796Z"
    }
   },
   "cell_type": "code",
   "source": "heart_disease['thal'].value_counts()\n",
   "id": "f19d564f5cf1a9ea",
   "outputs": [
    {
     "data": {
      "text/plain": [
       "thal\n",
       "3.0    164\n",
       "7.0    115\n",
       "6.0     18\n",
       "Name: count, dtype: int64"
      ]
     },
     "execution_count": 19,
     "metadata": {},
     "output_type": "execute_result"
    }
   ],
   "execution_count": 19
  },
  {
   "metadata": {},
   "cell_type": "markdown",
   "source": [
    "### Coefficients\n",
    "Some predictors have a large predictive power\n",
    "- `cp__cp_4` asymptomatic chest pain indicates that at the time of examination, the heart disease had not progressed to the point of causing pain. A little under half the dataset presented no chest pain\n",
    "- `thal__thal_7.0` around a bit over a third of dataset had a reversible defect from Thalassemia\n",
    "- `sex__sex` as might be expected, the gender of the patient has strong predictive power, something about males contributes to increased prevalance of heart disease\n",
    "- `chol` cholesterol also strong at predicting heart disease, sits well with common knowledge people have about the circulatory system and the heart\n",
    "- `ca_num__ca` the number of blood vessels, incorrect or restricted blood flow will lead to heart disease, so the number of vessels being lower than expected would be a strong predictor.\n",
    "\n",
    "## Improving the model\n",
    "We can make our model a bit simpler by removing the features we don't need. We'll use Recursive Feature Elimination (RFE) with Cross Validation (CV) to work out the optimum number of features. We'll make a new pipeline for it. We're going to reuse the preprocessor made before, but add a feature_selector step, that performs RFECV. We can then wrap that in a GridSearchCV to optimise the hyperparameters of the linear fit the RFECV\n",
    "\n",
    "## RFECV pipeline construction\n",
    "First we'll make the RFECV pipeline and check that it works."
   ],
   "id": "189549d971bbfe34"
  },
  {
   "metadata": {
    "ExecuteTime": {
     "end_time": "2024-12-19T04:08:16.475540Z",
     "start_time": "2024-12-19T04:08:16.227900Z"
    }
   },
   "cell_type": "code",
   "source": [
    "from sklearn.feature_selection import RFECV\n",
    "\n",
    "# Implement RFECV with Logistic Regression\n",
    "rfecv = RFECV(\n",
    "\testimator=LogisticRegression(max_iter=2000, random_state=42, solver='lbfgs'),\n",
    "\tcv=5,\n",
    "\tscoring='f1',  # You can choose other metrics like 'f1', 'roc_auc', etc.\n",
    "\tstep=1,\n",
    "\tmin_features_to_select=5,\n",
    ")\n",
    "\n",
    "# Create the full pipeline\n",
    "rfecv_pipeline = Pipeline(steps=[\n",
    "\t('preprocessor', scaling_encoding),  # Preprocessing step\n",
    "\t('feature_selector', rfecv)  # Perform RFECV with logistic regression\n",
    "])\n",
    "\n",
    "# Fit the rfecv_pipeline to the training data\n",
    "rfecv_pipeline.fit(X_train, y_train)\n",
    "\n",
    "# Evaluate the rfecv_pipeline on validation data\n",
    "y_val_pred = rfecv_pipeline.predict(X_val)\n",
    "\n",
    "# Get mask of selected features\n",
    "selected_features = rfecv_pipeline.named_steps['feature_selector'].support_\n",
    "feature_rankings = rfecv_pipeline.named_steps['feature_selector'].ranking_\n",
    "optimal_features = rfecv_pipeline.named_steps['feature_selector'].n_features_\n",
    "\n",
    "feature_names = scaling_encoding.get_feature_names_out()\n",
    "selected_feature_names = [name for i, name in enumerate(feature_names) if selected_features[i]]\n",
    "print(\"Selected Feature Names:\", selected_feature_names)\n",
    "\n",
    "model_metrics(y_val, y_val_pred)\n"
   ],
   "id": "fcf806362c2ece6e",
   "outputs": [
    {
     "name": "stdout",
     "output_type": "stream",
     "text": [
      "Selected Feature Names: ['oldpeak__oldpeak', 'ca_num__ca', 'cp__cp_4', 'restecg__restecg_0', 'slope__slope_1', 'thal__thal_3.0', 'thal__thal_7.0', 'exang__exang']\n"
     ]
    },
    {
     "data": {
      "text/plain": [
       "<Figure size 500x300 with 1 Axes>"
      ],
      "image/png": "[encoded data removed]"
     },
     "metadata": {},
     "output_type": "display_data"
    }
   ],
   "execution_count": 20
  },
  {
   "metadata": {},
   "cell_type": "markdown",
   "source": [
    "## RFECV Pipeline Results\n",
    "The F1 score for the validation set is no better than what we started with, the features selected match reasonably well with the log odds for our first fit, but let's not worry about it too much. Purpose of this was to validate the pipeline works\n",
    "\n",
    "## Hyperparameter optimisation\n",
    "We'll use a GridSearch on the pipeline and create a parameter grid, we'll add in some parameters to improve the logistic regression, as well as some to improve the feature selection [^1]\n",
    "\n",
    "\n",
    "\n",
    "[^1] It would be reasonable to approach this by just testing a gridsearch on the logistic regression hyperparameters, and then just testing RFECV to see which one had the biggest improvement on the F1 score. Since this project has a dual purpose of building a better classifier for heart disease as well as teaching the author more about pipelines and sklearn syntax, the nested CV approach is being taken\n",
    "\n",
    "\n"
   ],
   "id": "79358464a0516766"
  },
  {
   "metadata": {
    "ExecuteTime": {
     "end_time": "2024-12-19T04:08:16.544692Z",
     "start_time": "2024-12-19T04:08:16.542506Z"
    }
   },
   "cell_type": "code",
   "source": [
    "from sklearn.model_selection import GridSearchCV\n",
    "\n",
    "import warnings"
   ],
   "id": "7640a89651f9dbc1",
   "outputs": [],
   "execution_count": 21
  },
  {
   "metadata": {
    "ExecuteTime": {
     "end_time": "2024-12-19T04:09:26.268786Z",
     "start_time": "2024-12-19T04:08:16.604437Z"
    }
   },
   "cell_type": "code",
   "source": [
    "param_grid = {\n",
    "\t# Logistic Regression hyperparameters\n",
    "\t'feature_selector__estimator__C': [0.01, 0.1, 1.0, 10.0, 100, 1000, 10000],  # Regularization strength\n",
    "\t'feature_selector__estimator__solver': ['liblinear', 'lbfgs'],  # Solver for optimization\n",
    "\t'feature_selector__estimator__penalty': ['l2'],\n",
    "\t'feature_selector__estimator__fit_intercept': [True, False],\n",
    "\t'feature_selector__estimator__max_iter': [5000],  # Maximum number of iterations for optimization\n",
    "\n",
    "\t# RFECV specific parameters\n",
    "\t'feature_selector__cv': [5],  # Number of CV folds\n",
    "\t'feature_selector__step': [1, 2],  # Number of features to eliminate in each step\n",
    "\t'feature_selector__min_features_to_select': [1, 5, 9, 13, 17, 21],  # Minimum number of features to retain\n",
    "}\n",
    "\n",
    "grid_search = GridSearchCV(\n",
    "\testimator=rfecv_pipeline,\n",
    "\tparam_grid=param_grid,\n",
    "\tscoring='f1',\n",
    "\tcv=5,\n",
    "\tverbose=1,\n",
    "\tn_jobs=2,\n",
    "\terror_score='raise'\n",
    ")\n",
    "\n",
    "# We're getting warnings because I think the OneHotEncoder and nested cross validation is generating some datasets that don't have all categorical feature values, and that feeds in NaN to a numpy function. Since it's relatively few, we'll still get a good model out if we let the GridSearchCV handle it\n",
    "with warnings.catch_warnings(record=True) as w:\n",
    "\twarnings.simplefilter(\"always\")\n",
    "\tgrid_search.fit(X_train, y_train)\n",
    "\tfor warn in w:\n",
    "\t\tprint(f\"Warning: {warn.message}\")"
   ],
   "id": "65944a5e48c33198",
   "outputs": [
    {
     "name": "stdout",
     "output_type": "stream",
     "text": [
      "Fitting 5 folds for each of 336 candidates, totalling 1680 fits\n"
     ]
    }
   ],
   "execution_count": 22
  },
  {
   "metadata": {},
   "cell_type": "markdown",
   "source": [
    "## Final results\n",
    "The syntax for accessing the different components in a pipeline can be a little tricky to parse, but it's just nested properties. We'll select the best model for the pipeline, which is still accessed by `grid_search.best_estimator_` and fit it to the test data"
   ],
   "id": "73ba6f77ea81afce"
  },
  {
   "metadata": {
    "ExecuteTime": {
     "end_time": "2024-12-19T04:09:26.439025Z",
     "start_time": "2024-12-19T04:09:26.361226Z"
    }
   },
   "cell_type": "code",
   "source": [
    "\n",
    "# Get the best parameters\n",
    "best_params = grid_search.best_params_\n",
    "print(\"Best Parameters:\", best_params)\n",
    "\n",
    "best_model = grid_search.best_estimator_\n",
    "best_model.fit(X_test, y_test)"
   ],
   "id": "30c3c508d92019a1",
   "outputs": [
    {
     "name": "stdout",
     "output_type": "stream",
     "text": [
      "Best Parameters: {'feature_selector__cv': 5, 'feature_selector__estimator__C': 10.0, 'feature_selector__estimator__fit_intercept': False, 'feature_selector__estimator__max_iter': 5000, 'feature_selector__estimator__penalty': 'l2', 'feature_selector__estimator__solver': 'liblinear', 'feature_selector__min_features_to_select': 9, 'feature_selector__step': 2}\n"
     ]
    },
    {
     "data": {
      "text/plain": [
       "Pipeline(steps=[('preprocessor',\n",
       "                 ColumnTransformer(transformers=[('num', StandardScaler(),\n",
       "                                                  ['age', 'trestbps',\n",
       "                                                   'thalach']),\n",
       "                                                 ('chol', RobustScaler(),\n",
       "                                                  ['chol']),\n",
       "                                                 ('oldpeak', MinMaxScaler(),\n",
       "                                                  ['oldpeak']),\n",
       "                                                 ('ca_num', MinMaxScaler(),\n",
       "                                                  ['ca']),\n",
       "                                                 ('cp',\n",
       "                                                  OneHotEncoder(handle_unknown='infrequent_if_exist'),\n",
       "                                                  ['cp']),\n",
       "                                                 ('restecg',\n",
       "                                                  OneHotEncoder(handle_unknown='infrequent_if_exist'...\n",
       "                                                 ('thal',\n",
       "                                                  OneHotEncoder(handle_unknown='infrequent_if_exist'),\n",
       "                                                  ['thal']),\n",
       "                                                 ('exang', 'passthrough',\n",
       "                                                  ['exang']),\n",
       "                                                 ('fbs', 'passthrough',\n",
       "                                                  ['fbs']),\n",
       "                                                 ('sex', 'passthrough',\n",
       "                                                  ['sex'])])),\n",
       "                ('feature_selector',\n",
       "                 RFECV(cv=5,\n",
       "                       estimator=LogisticRegression(C=10.0, fit_intercept=False,\n",
       "                                                    max_iter=5000,\n",
       "                                                    random_state=42,\n",
       "                                                    solver='liblinear'),\n",
       "                       min_features_to_select=9, scoring='f1', step=2))])"
      ],
      "text/html": [
       "<style>#sk-container-id-1 {\n",
       "  /* Definition of color scheme common for light and dark mode */\n",
       "  --sklearn-color-text: black;\n",
       "  --sklearn-color-line: gray;\n",
       "  /* Definition of color scheme for unfitted estimators */\n",
       "  --sklearn-color-unfitted-level-0: #fff5e6;\n",
       "  --sklearn-color-unfitted-level-1: #f6e4d2;\n",
       "  --sklearn-color-unfitted-level-2: #ffe0b3;\n",
       "  --sklearn-color-unfitted-level-3: chocolate;\n",
       "  /* Definition of color scheme for fitted estimators */\n",
       "  --sklearn-color-fitted-level-0: #f0f8ff;\n",
       "  --sklearn-color-fitted-level-1: #d4ebff;\n",
       "  --sklearn-color-fitted-level-2: #b3dbfd;\n",
       "  --sklearn-color-fitted-level-3: cornflowerblue;\n",
       "\n",
       "  /* Specific color for light theme */\n",
       "  --sklearn-color-text-on-default-background: var(--sg-text-color, var(--theme-code-foreground, var(--jp-content-font-color1, black)));\n",
       "  --sklearn-color-background: var(--sg-background-color, var(--theme-background, var(--jp-layout-color0, white)));\n",
       "  --sklearn-color-border-box: var(--sg-text-color, var(--theme-code-foreground, var(--jp-content-font-color1, black)));\n",
       "  --sklearn-color-icon: #696969;\n",
       "\n",
       "  @media (prefers-color-scheme: dark) {\n",
       "    /* Redefinition of color scheme for dark theme */\n",
       "    --sklearn-color-text-on-default-background: var(--sg-text-color, var(--theme-code-foreground, var(--jp-content-font-color1, white)));\n",
       "    --sklearn-color-background: var(--sg-background-color, var(--theme-background, var(--jp-layout-color0, #111)));\n",
       "    --sklearn-color-border-box: var(--sg-text-color, var(--theme-code-foreground, var(--jp-content-font-color1, white)));\n",
       "    --sklearn-color-icon: #878787;\n",
       "  }\n",
       "}\n",
       "\n",
       "#sk-container-id-1 {\n",
       "  color: var(--sklearn-color-text);\n",
       "}\n",
       "\n",
       "#sk-container-id-1 pre {\n",
       "  padding: 0;\n",
       "}\n",
       "\n",
       "#sk-container-id-1 input.sk-hidden--visually {\n",
       "  border: 0;\n",
       "  clip: rect(1px 1px 1px 1px);\n",
       "  clip: rect(1px, 1px, 1px, 1px);\n",
       "  height: 1px;\n",
       "  margin: -1px;\n",
       "  overflow: hidden;\n",
       "  padding: 0;\n",
       "  position: absolute;\n",
       "  width: 1px;\n",
       "}\n",
       "\n",
       "#sk-container-id-1 div.sk-dashed-wrapped {\n",
       "  border: 1px dashed var(--sklearn-color-line);\n",
       "  margin: 0 0.4em 0.5em 0.4em;\n",
       "  box-sizing: border-box;\n",
       "  padding-bottom: 0.4em;\n",
       "  background-color: var(--sklearn-color-background);\n",
       "}\n",
       "\n",
       "#sk-container-id-1 div.sk-container {\n",
       "  /* jupyter's `normalize.less` sets `[hidden] { display: none; }`\n",
       "     but bootstrap.min.css set `[hidden] { display: none !important; }`\n",
       "     so we also need the `!important` here to be able to override the\n",
       "     default hidden behavior on the sphinx rendered scikit-learn.org.\n",
       "     See: https://github.com/scikit-learn/scikit-learn/issues/21755 */\n",
       "  display: inline-block !important;\n",
       "  position: relative;\n",
       "}\n",
       "\n",
       "#sk-container-id-1 div.sk-text-repr-fallback {\n",
       "  display: none;\n",
       "}\n",
       "\n",
       "div.sk-parallel-item,\n",
       "div.sk-serial,\n",
       "div.sk-item {\n",
       "  /* draw centered vertical line to link estimators */\n",
       "  background-image: linear-gradient(var(--sklearn-color-text-on-default-background), var(--sklearn-color-text-on-default-background));\n",
       "  background-size: 2px 100%;\n",
       "  background-repeat: no-repeat;\n",
       "  background-position: center center;\n",
       "}\n",
       "\n",
       "/* Parallel-specific style estimator block */\n",
       "\n",
       "#sk-container-id-1 div.sk-parallel-item::after {\n",
       "  content: \"\";\n",
       "  width: 100%;\n",
       "  border-bottom: 2px solid var(--sklearn-color-text-on-default-background);\n",
       "  flex-grow: 1;\n",
       "}\n",
       "\n",
       "#sk-container-id-1 div.sk-parallel {\n",
       "  display: flex;\n",
       "  align-items: stretch;\n",
       "  justify-content: center;\n",
       "  background-color: var(--sklearn-color-background);\n",
       "  position: relative;\n",
       "}\n",
       "\n",
       "#sk-container-id-1 div.sk-parallel-item {\n",
       "  display: flex;\n",
       "  flex-direction: column;\n",
       "}\n",
       "\n",
       "#sk-container-id-1 div.sk-parallel-item:first-child::after {\n",
       "  align-self: flex-end;\n",
       "  width: 50%;\n",
       "}\n",
       "\n",
       "#sk-container-id-1 div.sk-parallel-item:last-child::after {\n",
       "  align-self: flex-start;\n",
       "  width: 50%;\n",
       "}\n",
       "\n",
       "#sk-container-id-1 div.sk-parallel-item:only-child::after {\n",
       "  width: 0;\n",
       "}\n",
       "\n",
       "/* Serial-specific style estimator block */\n",
       "\n",
       "#sk-container-id-1 div.sk-serial {\n",
       "  display: flex;\n",
       "  flex-direction: column;\n",
       "  align-items: center;\n",
       "  background-color: var(--sklearn-color-background);\n",
       "  padding-right: 1em;\n",
       "  padding-left: 1em;\n",
       "}\n",
       "\n",
       "\n",
       "/* Toggleable style: style used for estimator/Pipeline/ColumnTransformer box that is\n",
       "clickable and can be expanded/collapsed.\n",
       "- Pipeline and ColumnTransformer use this feature and define the default style\n",
       "- Estimators will overwrite some part of the style using the `sk-estimator` class\n",
       "*/\n",
       "\n",
       "/* Pipeline and ColumnTransformer style (default) */\n",
       "\n",
       "#sk-container-id-1 div.sk-toggleable {\n",
       "  /* Default theme specific background. It is overwritten whether we have a\n",
       "  specific estimator or a Pipeline/ColumnTransformer */\n",
       "  background-color: var(--sklearn-color-background);\n",
       "}\n",
       "\n",
       "/* Toggleable label */\n",
       "#sk-container-id-1 label.sk-toggleable__label {\n",
       "  cursor: pointer;\n",
       "  display: block;\n",
       "  width: 100%;\n",
       "  margin-bottom: 0;\n",
       "  padding: 0.5em;\n",
       "  box-sizing: border-box;\n",
       "  text-align: center;\n",
       "}\n",
       "\n",
       "#sk-container-id-1 label.sk-toggleable__label-arrow:before {\n",
       "  /* Arrow on the left of the label */\n",
       "  content: \"▸\";\n",
       "  float: left;\n",
       "  margin-right: 0.25em;\n",
       "  color: var(--sklearn-color-icon);\n",
       "}\n",
       "\n",
       "#sk-container-id-1 label.sk-toggleable__label-arrow:hover:before {\n",
       "  color: var(--sklearn-color-text);\n",
       "}\n",
       "\n",
       "/* Toggleable content - dropdown */\n",
       "\n",
       "#sk-container-id-1 div.sk-toggleable__content {\n",
       "  max-height: 0;\n",
       "  max-width: 0;\n",
       "  overflow: hidden;\n",
       "  text-align: left;\n",
       "  /* unfitted */\n",
       "  background-color: var(--sklearn-color-unfitted-level-0);\n",
       "}\n",
       "\n",
       "#sk-container-id-1 div.sk-toggleable__content.fitted {\n",
       "  /* fitted */\n",
       "  background-color: var(--sklearn-color-fitted-level-0);\n",
       "}\n",
       "\n",
       "#sk-container-id-1 div.sk-toggleable__content pre {\n",
       "  margin: 0.2em;\n",
       "  border-radius: 0.25em;\n",
       "  color: var(--sklearn-color-text);\n",
       "  /* unfitted */\n",
       "  background-color: var(--sklearn-color-unfitted-level-0);\n",
       "}\n",
       "\n",
       "#sk-container-id-1 div.sk-toggleable__content.fitted pre {\n",
       "  /* unfitted */\n",
       "  background-color: var(--sklearn-color-fitted-level-0);\n",
       "}\n",
       "\n",
       "#sk-container-id-1 input.sk-toggleable__control:checked~div.sk-toggleable__content {\n",
       "  /* Expand drop-down */\n",
       "  max-height: 200px;\n",
       "  max-width: 100%;\n",
       "  overflow: auto;\n",
       "}\n",
       "\n",
       "#sk-container-id-1 input.sk-toggleable__control:checked~label.sk-toggleable__label-arrow:before {\n",
       "  content: \"▾\";\n",
       "}\n",
       "\n",
       "/* Pipeline/ColumnTransformer-specific style */\n",
       "\n",
       "#sk-container-id-1 div.sk-label input.sk-toggleable__control:checked~label.sk-toggleable__label {\n",
       "  color: var(--sklearn-color-text);\n",
       "  background-color: var(--sklearn-color-unfitted-level-2);\n",
       "}\n",
       "\n",
       "#sk-container-id-1 div.sk-label.fitted input.sk-toggleable__control:checked~label.sk-toggleable__label {\n",
       "  background-color: var(--sklearn-color-fitted-level-2);\n",
       "}\n",
       "\n",
       "/* Estimator-specific style */\n",
       "\n",
       "/* Colorize estimator box */\n",
       "#sk-container-id-1 div.sk-estimator input.sk-toggleable__control:checked~label.sk-toggleable__label {\n",
       "  /* unfitted */\n",
       "  background-color: var(--sklearn-color-unfitted-level-2);\n",
       "}\n",
       "\n",
       "#sk-container-id-1 div.sk-estimator.fitted input.sk-toggleable__control:checked~label.sk-toggleable__label {\n",
       "  /* fitted */\n",
       "  background-color: var(--sklearn-color-fitted-level-2);\n",
       "}\n",
       "\n",
       "#sk-container-id-1 div.sk-label label.sk-toggleable__label,\n",
       "#sk-container-id-1 div.sk-label label {\n",
       "  /* The background is the default theme color */\n",
       "  color: var(--sklearn-color-text-on-default-background);\n",
       "}\n",
       "\n",
       "/* On hover, darken the color of the background */\n",
       "#sk-container-id-1 div.sk-label:hover label.sk-toggleable__label {\n",
       "  color: var(--sklearn-color-text);\n",
       "  background-color: var(--sklearn-color-unfitted-level-2);\n",
       "}\n",
       "\n",
       "/* Label box, darken color on hover, fitted */\n",
       "#sk-container-id-1 div.sk-label.fitted:hover label.sk-toggleable__label.fitted {\n",
       "  color: var(--sklearn-color-text);\n",
       "  background-color: var(--sklearn-color-fitted-level-2);\n",
       "}\n",
       "\n",
       "/* Estimator label */\n",
       "\n",
       "#sk-container-id-1 div.sk-label label {\n",
       "  font-family: monospace;\n",
       "  font-weight: bold;\n",
       "  display: inline-block;\n",
       "  line-height: 1.2em;\n",
       "}\n",
       "\n",
       "#sk-container-id-1 div.sk-label-container {\n",
       "  text-align: center;\n",
       "}\n",
       "\n",
       "/* Estimator-specific */\n",
       "#sk-container-id-1 div.sk-estimator {\n",
       "  font-family: monospace;\n",
       "  border: 1px dotted var(--sklearn-color-border-box);\n",
       "  border-radius: 0.25em;\n",
       "  box-sizing: border-box;\n",
       "  margin-bottom: 0.5em;\n",
       "  /* unfitted */\n",
       "  background-color: var(--sklearn-color-unfitted-level-0);\n",
       "}\n",
       "\n",
       "#sk-container-id-1 div.sk-estimator.fitted {\n",
       "  /* fitted */\n",
       "  background-color: var(--sklearn-color-fitted-level-0);\n",
       "}\n",
       "\n",
       "/* on hover */\n",
       "#sk-container-id-1 div.sk-estimator:hover {\n",
       "  /* unfitted */\n",
       "  background-color: var(--sklearn-color-unfitted-level-2);\n",
       "}\n",
       "\n",
       "#sk-container-id-1 div.sk-estimator.fitted:hover {\n",
       "  /* fitted */\n",
       "  background-color: var(--sklearn-color-fitted-level-2);\n",
       "}\n",
       "\n",
       "/* Specification for estimator info (e.g. \"i\" and \"?\") */\n",
       "\n",
       "/* Common style for \"i\" and \"?\" */\n",
       "\n",
       ".sk-estimator-doc-link,\n",
       "a:link.sk-estimator-doc-link,\n",
       "a:visited.sk-estimator-doc-link {\n",
       "  float: right;\n",
       "  font-size: smaller;\n",
       "  line-height: 1em;\n",
       "  font-family: monospace;\n",
       "  background-color: var(--sklearn-color-background);\n",
       "  border-radius: 1em;\n",
       "  height: 1em;\n",
       "  width: 1em;\n",
       "  text-decoration: none !important;\n",
       "  margin-left: 1ex;\n",
       "  /* unfitted */\n",
       "  border: var(--sklearn-color-unfitted-level-1) 1pt solid;\n",
       "  color: var(--sklearn-color-unfitted-level-1);\n",
       "}\n",
       "\n",
       ".sk-estimator-doc-link.fitted,\n",
       "a:link.sk-estimator-doc-link.fitted,\n",
       "a:visited.sk-estimator-doc-link.fitted {\n",
       "  /* fitted */\n",
       "  border: var(--sklearn-color-fitted-level-1) 1pt solid;\n",
       "  color: var(--sklearn-color-fitted-level-1);\n",
       "}\n",
       "\n",
       "/* On hover */\n",
       "div.sk-estimator:hover .sk-estimator-doc-link:hover,\n",
       ".sk-estimator-doc-link:hover,\n",
       "div.sk-label-container:hover .sk-estimator-doc-link:hover,\n",
       ".sk-estimator-doc-link:hover {\n",
       "  /* unfitted */\n",
       "  background-color: var(--sklearn-color-unfitted-level-3);\n",
       "  color: var(--sklearn-color-background);\n",
       "  text-decoration: none;\n",
       "}\n",
       "\n",
       "div.sk-estimator.fitted:hover .sk-estimator-doc-link.fitted:hover,\n",
       ".sk-estimator-doc-link.fitted:hover,\n",
       "div.sk-label-container:hover .sk-estimator-doc-link.fitted:hover,\n",
       ".sk-estimator-doc-link.fitted:hover {\n",
       "  /* fitted */\n",
       "  background-color: var(--sklearn-color-fitted-level-3);\n",
       "  color: var(--sklearn-color-background);\n",
       "  text-decoration: none;\n",
       "}\n",
       "\n",
       "/* Span, style for the box shown on hovering the info icon */\n",
       ".sk-estimator-doc-link span {\n",
       "  display: none;\n",
       "  z-index: 9999;\n",
       "  position: relative;\n",
       "  font-weight: normal;\n",
       "  right: .2ex;\n",
       "  padding: .5ex;\n",
       "  margin: .5ex;\n",
       "  width: min-content;\n",
       "  min-width: 20ex;\n",
       "  max-width: 50ex;\n",
       "  color: var(--sklearn-color-text);\n",
       "  box-shadow: 2pt 2pt 4pt #999;\n",
       "  /* unfitted */\n",
       "  background: var(--sklearn-color-unfitted-level-0);\n",
       "  border: .5pt solid var(--sklearn-color-unfitted-level-3);\n",
       "}\n",
       "\n",
       ".sk-estimator-doc-link.fitted span {\n",
       "  /* fitted */\n",
       "  background: var(--sklearn-color-fitted-level-0);\n",
       "  border: var(--sklearn-color-fitted-level-3);\n",
       "}\n",
       "\n",
       ".sk-estimator-doc-link:hover span {\n",
       "  display: block;\n",
       "}\n",
       "\n",
       "/* \"?\"-specific style due to the `<a>` HTML tag */\n",
       "\n",
       "#sk-container-id-1 a.estimator_doc_link {\n",
       "  float: right;\n",
       "  font-size: 1rem;\n",
       "  line-height: 1em;\n",
       "  font-family: monospace;\n",
       "  background-color: var(--sklearn-color-background);\n",
       "  border-radius: 1rem;\n",
       "  height: 1rem;\n",
       "  width: 1rem;\n",
       "  text-decoration: none;\n",
       "  /* unfitted */\n",
       "  color: var(--sklearn-color-unfitted-level-1);\n",
       "  border: var(--sklearn-color-unfitted-level-1) 1pt solid;\n",
       "}\n",
       "\n",
       "#sk-container-id-1 a.estimator_doc_link.fitted {\n",
       "  /* fitted */\n",
       "  border: var(--sklearn-color-fitted-level-1) 1pt solid;\n",
       "  color: var(--sklearn-color-fitted-level-1);\n",
       "}\n",
       "\n",
       "/* On hover */\n",
       "#sk-container-id-1 a.estimator_doc_link:hover {\n",
       "  /* unfitted */\n",
       "  background-color: var(--sklearn-color-unfitted-level-3);\n",
       "  color: var(--sklearn-color-background);\n",
       "  text-decoration: none;\n",
       "}\n",
       "\n",
       "#sk-container-id-1 a.estimator_doc_link.fitted:hover {\n",
       "  /* fitted */\n",
       "  background-color: var(--sklearn-color-fitted-level-3);\n",
       "}\n",
       "</style><div id=\"sk-container-id-1\" class=\"sk-top-container\"><div class=\"sk-text-repr-fallback\"><pre>Pipeline(steps=[(&#x27;preprocessor&#x27;,\n",
       "                 ColumnTransformer(transformers=[(&#x27;num&#x27;, StandardScaler(),\n",
       "                                                  [&#x27;age&#x27;, &#x27;trestbps&#x27;,\n",
       "                                                   &#x27;thalach&#x27;]),\n",
       "                                                 (&#x27;chol&#x27;, RobustScaler(),\n",
       "                                                  [&#x27;chol&#x27;]),\n",
       "                                                 (&#x27;oldpeak&#x27;, MinMaxScaler(),\n",
       "                                                  [&#x27;oldpeak&#x27;]),\n",
       "                                                 (&#x27;ca_num&#x27;, MinMaxScaler(),\n",
       "                                                  [&#x27;ca&#x27;]),\n",
       "                                                 (&#x27;cp&#x27;,\n",
       "                                                  OneHotEncoder(handle_unknown=&#x27;infrequent_if_exist&#x27;),\n",
       "                                                  [&#x27;cp&#x27;]),\n",
       "                                                 (&#x27;restecg&#x27;,\n",
       "                                                  OneHotEncoder(handle_unknown=&#x27;infrequent_if_exist&#x27;...\n",
       "                                                 (&#x27;thal&#x27;,\n",
       "                                                  OneHotEncoder(handle_unknown=&#x27;infrequent_if_exist&#x27;),\n",
       "                                                  [&#x27;thal&#x27;]),\n",
       "                                                 (&#x27;exang&#x27;, &#x27;passthrough&#x27;,\n",
       "                                                  [&#x27;exang&#x27;]),\n",
       "                                                 (&#x27;fbs&#x27;, &#x27;passthrough&#x27;,\n",
       "                                                  [&#x27;fbs&#x27;]),\n",
       "                                                 (&#x27;sex&#x27;, &#x27;passthrough&#x27;,\n",
       "                                                  [&#x27;sex&#x27;])])),\n",
       "                (&#x27;feature_selector&#x27;,\n",
       "                 RFECV(cv=5,\n",
       "                       estimator=LogisticRegression(C=10.0, fit_intercept=False,\n",
       "                                                    max_iter=5000,\n",
       "                                                    random_state=42,\n",
       "                                                    solver=&#x27;liblinear&#x27;),\n",
       "                       min_features_to_select=9, scoring=&#x27;f1&#x27;, step=2))])</pre><b>In a Jupyter environment, please rerun this cell to show the HTML representation or trust the notebook. <br />On GitHub, the HTML representation is unable to render, please try loading this page with nbviewer.org.</b></div><div class=\"sk-container\" hidden><div class=\"sk-item sk-dashed-wrapped\"><div class=\"sk-label-container\"><div class=\"sk-label fitted sk-toggleable\"><input class=\"sk-toggleable__control sk-hidden--visually\" id=\"sk-estimator-id-1\" type=\"checkbox\" ><label for=\"sk-estimator-id-1\" class=\"sk-toggleable__label fitted sk-toggleable__label-arrow fitted\">&nbsp;&nbsp;Pipeline<a class=\"sk-estimator-doc-link fitted\" rel=\"noreferrer\" target=\"_blank\" href=\"https://scikit-learn.org/1.5/modules/generated/sklearn.pipeline.Pipeline.html\">?<span>Documentation for Pipeline</span></a><span class=\"sk-estimator-doc-link fitted\">i<span>Fitted</span></span></label><div class=\"sk-toggleable__content fitted\"><pre>Pipeline(steps=[(&#x27;preprocessor&#x27;,\n",
       "                 ColumnTransformer(transformers=[(&#x27;num&#x27;, StandardScaler(),\n",
       "                                                  [&#x27;age&#x27;, &#x27;trestbps&#x27;,\n",
       "                                                   &#x27;thalach&#x27;]),\n",
       "                                                 (&#x27;chol&#x27;, RobustScaler(),\n",
       "                                                  [&#x27;chol&#x27;]),\n",
       "                                                 (&#x27;oldpeak&#x27;, MinMaxScaler(),\n",
       "                                                  [&#x27;oldpeak&#x27;]),\n",
       "                                                 (&#x27;ca_num&#x27;, MinMaxScaler(),\n",
       "                                                  [&#x27;ca&#x27;]),\n",
       "                                                 (&#x27;cp&#x27;,\n",
       "                                                  OneHotEncoder(handle_unknown=&#x27;infrequent_if_exist&#x27;),\n",
       "                                                  [&#x27;cp&#x27;]),\n",
       "                                                 (&#x27;restecg&#x27;,\n",
       "                                                  OneHotEncoder(handle_unknown=&#x27;infrequent_if_exist&#x27;...\n",
       "                                                 (&#x27;thal&#x27;,\n",
       "                                                  OneHotEncoder(handle_unknown=&#x27;infrequent_if_exist&#x27;),\n",
       "                                                  [&#x27;thal&#x27;]),\n",
       "                                                 (&#x27;exang&#x27;, &#x27;passthrough&#x27;,\n",
       "                                                  [&#x27;exang&#x27;]),\n",
       "                                                 (&#x27;fbs&#x27;, &#x27;passthrough&#x27;,\n",
       "                                                  [&#x27;fbs&#x27;]),\n",
       "                                                 (&#x27;sex&#x27;, &#x27;passthrough&#x27;,\n",
       "                                                  [&#x27;sex&#x27;])])),\n",
       "                (&#x27;feature_selector&#x27;,\n",
       "                 RFECV(cv=5,\n",
       "                       estimator=LogisticRegression(C=10.0, fit_intercept=False,\n",
       "                                                    max_iter=5000,\n",
       "                                                    random_state=42,\n",
       "                                                    solver=&#x27;liblinear&#x27;),\n",
       "                       min_features_to_select=9, scoring=&#x27;f1&#x27;, step=2))])</pre></div> </div></div><div class=\"sk-serial\"><div class=\"sk-item sk-dashed-wrapped\"><div class=\"sk-label-container\"><div class=\"sk-label fitted sk-toggleable\"><input class=\"sk-toggleable__control sk-hidden--visually\" id=\"sk-estimator-id-2\" type=\"checkbox\" ><label for=\"sk-estimator-id-2\" class=\"sk-toggleable__label fitted sk-toggleable__label-arrow fitted\">&nbsp;preprocessor: ColumnTransformer<a class=\"sk-estimator-doc-link fitted\" rel=\"noreferrer\" target=\"_blank\" href=\"https://scikit-learn.org/1.5/modules/generated/sklearn.compose.ColumnTransformer.html\">?<span>Documentation for preprocessor: ColumnTransformer</span></a></label><div class=\"sk-toggleable__content fitted\"><pre>ColumnTransformer(transformers=[(&#x27;num&#x27;, StandardScaler(),\n",
       "                                 [&#x27;age&#x27;, &#x27;trestbps&#x27;, &#x27;thalach&#x27;]),\n",
       "                                (&#x27;chol&#x27;, RobustScaler(), [&#x27;chol&#x27;]),\n",
       "                                (&#x27;oldpeak&#x27;, MinMaxScaler(), [&#x27;oldpeak&#x27;]),\n",
       "                                (&#x27;ca_num&#x27;, MinMaxScaler(), [&#x27;ca&#x27;]),\n",
       "                                (&#x27;cp&#x27;,\n",
       "                                 OneHotEncoder(handle_unknown=&#x27;infrequent_if_exist&#x27;),\n",
       "                                 [&#x27;cp&#x27;]),\n",
       "                                (&#x27;restecg&#x27;,\n",
       "                                 OneHotEncoder(handle_unknown=&#x27;infrequent_if_exist&#x27;),\n",
       "                                 [&#x27;restecg&#x27;]),\n",
       "                                (&#x27;slope&#x27;,\n",
       "                                 OneHotEncoder(handle_unknown=&#x27;infrequent_if_exist&#x27;),\n",
       "                                 [&#x27;slope&#x27;]),\n",
       "                                (&#x27;thal&#x27;,\n",
       "                                 OneHotEncoder(handle_unknown=&#x27;infrequent_if_exist&#x27;),\n",
       "                                 [&#x27;thal&#x27;]),\n",
       "                                (&#x27;exang&#x27;, &#x27;passthrough&#x27;, [&#x27;exang&#x27;]),\n",
       "                                (&#x27;fbs&#x27;, &#x27;passthrough&#x27;, [&#x27;fbs&#x27;]),\n",
       "                                (&#x27;sex&#x27;, &#x27;passthrough&#x27;, [&#x27;sex&#x27;])])</pre></div> </div></div><div class=\"sk-parallel\"><div class=\"sk-parallel-item\"><div class=\"sk-item\"><div class=\"sk-label-container\"><div class=\"sk-label fitted sk-toggleable\"><input class=\"sk-toggleable__control sk-hidden--visually\" id=\"sk-estimator-id-3\" type=\"checkbox\" ><label for=\"sk-estimator-id-3\" class=\"sk-toggleable__label fitted sk-toggleable__label-arrow fitted\">num</label><div class=\"sk-toggleable__content fitted\"><pre>[&#x27;age&#x27;, &#x27;trestbps&#x27;, &#x27;thalach&#x27;]</pre></div> </div></div><div class=\"sk-serial\"><div class=\"sk-item\"><div class=\"sk-estimator fitted sk-toggleable\"><input class=\"sk-toggleable__control sk-hidden--visually\" id=\"sk-estimator-id-4\" type=\"checkbox\" ><label for=\"sk-estimator-id-4\" class=\"sk-toggleable__label fitted sk-toggleable__label-arrow fitted\">&nbsp;StandardScaler<a class=\"sk-estimator-doc-link fitted\" rel=\"noreferrer\" target=\"_blank\" href=\"https://scikit-learn.org/1.5/modules/generated/sklearn.preprocessing.StandardScaler.html\">?<span>Documentation for StandardScaler</span></a></label><div class=\"sk-toggleable__content fitted\"><pre>StandardScaler()</pre></div> </div></div></div></div></div><div class=\"sk-parallel-item\"><div class=\"sk-item\"><div class=\"sk-label-container\"><div class=\"sk-label fitted sk-toggleable\"><input class=\"sk-toggleable__control sk-hidden--visually\" id=\"sk-estimator-id-5\" type=\"checkbox\" ><label for=\"sk-estimator-id-5\" class=\"sk-toggleable__label fitted sk-toggleable__label-arrow fitted\">chol</label><div class=\"sk-toggleable__content fitted\"><pre>[&#x27;chol&#x27;]</pre></div> </div></div><div class=\"sk-serial\"><div class=\"sk-item\"><div class=\"sk-estimator fitted sk-toggleable\"><input class=\"sk-toggleable__control sk-hidden--visually\" id=\"sk-estimator-id-6\" type=\"checkbox\" ><label for=\"sk-estimator-id-6\" class=\"sk-toggleable__label fitted sk-toggleable__label-arrow fitted\">&nbsp;RobustScaler<a class=\"sk-estimator-doc-link fitted\" rel=\"noreferrer\" target=\"_blank\" href=\"https://scikit-learn.org/1.5/modules/generated/sklearn.preprocessing.RobustScaler.html\">?<span>Documentation for RobustScaler</span></a></label><div class=\"sk-toggleable__content fitted\"><pre>RobustScaler()</pre></div> </div></div></div></div></div><div class=\"sk-parallel-item\"><div class=\"sk-item\"><div class=\"sk-label-container\"><div class=\"sk-label fitted sk-toggleable\"><input class=\"sk-toggleable__control sk-hidden--visually\" id=\"sk-estimator-id-7\" type=\"checkbox\" ><label for=\"sk-estimator-id-7\" class=\"sk-toggleable__label fitted sk-toggleable__label-arrow fitted\">oldpeak</label><div class=\"sk-toggleable__content fitted\"><pre>[&#x27;oldpeak&#x27;]</pre></div> </div></div><div class=\"sk-serial\"><div class=\"sk-item\"><div class=\"sk-estimator fitted sk-toggleable\"><input class=\"sk-toggleable__control sk-hidden--visually\" id=\"sk-estimator-id-8\" type=\"checkbox\" ><label for=\"sk-estimator-id-8\" class=\"sk-toggleable__label fitted sk-toggleable__label-arrow fitted\">&nbsp;MinMaxScaler<a class=\"sk-estimator-doc-link fitted\" rel=\"noreferrer\" target=\"_blank\" href=\"https://scikit-learn.org/1.5/modules/generated/sklearn.preprocessing.MinMaxScaler.html\">?<span>Documentation for MinMaxScaler</span></a></label><div class=\"sk-toggleable__content fitted\"><pre>MinMaxScaler()</pre></div> </div></div></div></div></div><div class=\"sk-parallel-item\"><div class=\"sk-item\"><div class=\"sk-label-container\"><div class=\"sk-label fitted sk-toggleable\"><input class=\"sk-toggleable__control sk-hidden--visually\" id=\"sk-estimator-id-9\" type=\"checkbox\" ><label for=\"sk-estimator-id-9\" class=\"sk-toggleable__label fitted sk-toggleable__label-arrow fitted\">ca_num</label><div class=\"sk-toggleable__content fitted\"><pre>[&#x27;ca&#x27;]</pre></div> </div></div><div class=\"sk-serial\"><div class=\"sk-item\"><div class=\"sk-estimator fitted sk-toggleable\"><input class=\"sk-toggleable__control sk-hidden--visually\" id=\"sk-estimator-id-10\" type=\"checkbox\" ><label for=\"sk-estimator-id-10\" class=\"sk-toggleable__label fitted sk-toggleable__label-arrow fitted\">&nbsp;MinMaxScaler<a class=\"sk-estimator-doc-link fitted\" rel=\"noreferrer\" target=\"_blank\" href=\"https://scikit-learn.org/1.5/modules/generated/sklearn.preprocessing.MinMaxScaler.html\">?<span>Documentation for MinMaxScaler</span></a></label><div class=\"sk-toggleable__content fitted\"><pre>MinMaxScaler()</pre></div> </div></div></div></div></div><div class=\"sk-parallel-item\"><div class=\"sk-item\"><div class=\"sk-label-container\"><div class=\"sk-label fitted sk-toggleable\"><input class=\"sk-toggleable__control sk-hidden--visually\" id=\"sk-estimator-id-11\" type=\"checkbox\" ><label for=\"sk-estimator-id-11\" class=\"sk-toggleable__label fitted sk-toggleable__label-arrow fitted\">cp</label><div class=\"sk-toggleable__content fitted\"><pre>[&#x27;cp&#x27;]</pre></div> </div></div><div class=\"sk-serial\"><div class=\"sk-item\"><div class=\"sk-estimator fitted sk-toggleable\"><input class=\"sk-toggleable__control sk-hidden--visually\" id=\"sk-estimator-id-12\" type=\"checkbox\" ><label for=\"sk-estimator-id-12\" class=\"sk-toggleable__label fitted sk-toggleable__label-arrow fitted\">&nbsp;OneHotEncoder<a class=\"sk-estimator-doc-link fitted\" rel=\"noreferrer\" target=\"_blank\" href=\"https://scikit-learn.org/1.5/modules/generated/sklearn.preprocessing.OneHotEncoder.html\">?<span>Documentation for OneHotEncoder</span></a></label><div class=\"sk-toggleable__content fitted\"><pre>OneHotEncoder(handle_unknown=&#x27;infrequent_if_exist&#x27;)</pre></div> </div></div></div></div></div><div class=\"sk-parallel-item\"><div class=\"sk-item\"><div class=\"sk-label-container\"><div class=\"sk-label fitted sk-toggleable\"><input class=\"sk-toggleable__control sk-hidden--visually\" id=\"sk-estimator-id-13\" type=\"checkbox\" ><label for=\"sk-estimator-id-13\" class=\"sk-toggleable__label fitted sk-toggleable__label-arrow fitted\">restecg</label><div class=\"sk-toggleable__content fitted\"><pre>[&#x27;restecg&#x27;]</pre></div> </div></div><div class=\"sk-serial\"><div class=\"sk-item\"><div class=\"sk-estimator fitted sk-toggleable\"><input class=\"sk-toggleable__control sk-hidden--visually\" id=\"sk-estimator-id-14\" type=\"checkbox\" ><label for=\"sk-estimator-id-14\" class=\"sk-toggleable__label fitted sk-toggleable__label-arrow fitted\">&nbsp;OneHotEncoder<a class=\"sk-estimator-doc-link fitted\" rel=\"noreferrer\" target=\"_blank\" href=\"https://scikit-learn.org/1.5/modules/generated/sklearn.preprocessing.OneHotEncoder.html\">?<span>Documentation for OneHotEncoder</span></a></label><div class=\"sk-toggleable__content fitted\"><pre>OneHotEncoder(handle_unknown=&#x27;infrequent_if_exist&#x27;)</pre></div> </div></div></div></div></div><div class=\"sk-parallel-item\"><div class=\"sk-item\"><div class=\"sk-label-container\"><div class=\"sk-label fitted sk-toggleable\"><input class=\"sk-toggleable__control sk-hidden--visually\" id=\"sk-estimator-id-15\" type=\"checkbox\" ><label for=\"sk-estimator-id-15\" class=\"sk-toggleable__label fitted sk-toggleable__label-arrow fitted\">slope</label><div class=\"sk-toggleable__content fitted\"><pre>[&#x27;slope&#x27;]</pre></div> </div></div><div class=\"sk-serial\"><div class=\"sk-item\"><div class=\"sk-estimator fitted sk-toggleable\"><input class=\"sk-toggleable__control sk-hidden--visually\" id=\"sk-estimator-id-16\" type=\"checkbox\" ><label for=\"sk-estimator-id-16\" class=\"sk-toggleable__label fitted sk-toggleable__label-arrow fitted\">&nbsp;OneHotEncoder<a class=\"sk-estimator-doc-link fitted\" rel=\"noreferrer\" target=\"_blank\" href=\"https://scikit-learn.org/1.5/modules/generated/sklearn.preprocessing.OneHotEncoder.html\">?<span>Documentation for OneHotEncoder</span></a></label><div class=\"sk-toggleable__content fitted\"><pre>OneHotEncoder(handle_unknown=&#x27;infrequent_if_exist&#x27;)</pre></div> </div></div></div></div></div><div class=\"sk-parallel-item\"><div class=\"sk-item\"><div class=\"sk-label-container\"><div class=\"sk-label fitted sk-toggleable\"><input class=\"sk-toggleable__control sk-hidden--visually\" id=\"sk-estimator-id-17\" type=\"checkbox\" ><label for=\"sk-estimator-id-17\" class=\"sk-toggleable__label fitted sk-toggleable__label-arrow fitted\">thal</label><div class=\"sk-toggleable__content fitted\"><pre>[&#x27;thal&#x27;]</pre></div> </div></div><div class=\"sk-serial\"><div class=\"sk-item\"><div class=\"sk-estimator fitted sk-toggleable\"><input class=\"sk-toggleable__control sk-hidden--visually\" id=\"sk-estimator-id-18\" type=\"checkbox\" ><label for=\"sk-estimator-id-18\" class=\"sk-toggleable__label fitted sk-toggleable__label-arrow fitted\">&nbsp;OneHotEncoder<a class=\"sk-estimator-doc-link fitted\" rel=\"noreferrer\" target=\"_blank\" href=\"https://scikit-learn.org/1.5/modules/generated/sklearn.preprocessing.OneHotEncoder.html\">?<span>Documentation for OneHotEncoder</span></a></label><div class=\"sk-toggleable__content fitted\"><pre>OneHotEncoder(handle_unknown=&#x27;infrequent_if_exist&#x27;)</pre></div> </div></div></div></div></div><div class=\"sk-parallel-item\"><div class=\"sk-item\"><div class=\"sk-label-container\"><div class=\"sk-label fitted sk-toggleable\"><input class=\"sk-toggleable__control sk-hidden--visually\" id=\"sk-estimator-id-19\" type=\"checkbox\" ><label for=\"sk-estimator-id-19\" class=\"sk-toggleable__label fitted sk-toggleable__label-arrow fitted\">exang</label><div class=\"sk-toggleable__content fitted\"><pre>[&#x27;exang&#x27;]</pre></div> </div></div><div class=\"sk-serial\"><div class=\"sk-item\"><div class=\"sk-estimator fitted sk-toggleable\"><input class=\"sk-toggleable__control sk-hidden--visually\" id=\"sk-estimator-id-20\" type=\"checkbox\" ><label for=\"sk-estimator-id-20\" class=\"sk-toggleable__label fitted sk-toggleable__label-arrow fitted\">passthrough</label><div class=\"sk-toggleable__content fitted\"><pre>passthrough</pre></div> </div></div></div></div></div><div class=\"sk-parallel-item\"><div class=\"sk-item\"><div class=\"sk-label-container\"><div class=\"sk-label fitted sk-toggleable\"><input class=\"sk-toggleable__control sk-hidden--visually\" id=\"sk-estimator-id-21\" type=\"checkbox\" ><label for=\"sk-estimator-id-21\" class=\"sk-toggleable__label fitted sk-toggleable__label-arrow fitted\">fbs</label><div class=\"sk-toggleable__content fitted\"><pre>[&#x27;fbs&#x27;]</pre></div> </div></div><div class=\"sk-serial\"><div class=\"sk-item\"><div class=\"sk-estimator fitted sk-toggleable\"><input class=\"sk-toggleable__control sk-hidden--visually\" id=\"sk-estimator-id-22\" type=\"checkbox\" ><label for=\"sk-estimator-id-22\" class=\"sk-toggleable__label fitted sk-toggleable__label-arrow fitted\">passthrough</label><div class=\"sk-toggleable__content fitted\"><pre>passthrough</pre></div> </div></div></div></div></div><div class=\"sk-parallel-item\"><div class=\"sk-item\"><div class=\"sk-label-container\"><div class=\"sk-label fitted sk-toggleable\"><input class=\"sk-toggleable__control sk-hidden--visually\" id=\"sk-estimator-id-23\" type=\"checkbox\" ><label for=\"sk-estimator-id-23\" class=\"sk-toggleable__label fitted sk-toggleable__label-arrow fitted\">sex</label><div class=\"sk-toggleable__content fitted\"><pre>[&#x27;sex&#x27;]</pre></div> </div></div><div class=\"sk-serial\"><div class=\"sk-item\"><div class=\"sk-estimator fitted sk-toggleable\"><input class=\"sk-toggleable__control sk-hidden--visually\" id=\"sk-estimator-id-24\" type=\"checkbox\" ><label for=\"sk-estimator-id-24\" class=\"sk-toggleable__label fitted sk-toggleable__label-arrow fitted\">passthrough</label><div class=\"sk-toggleable__content fitted\"><pre>passthrough</pre></div> </div></div></div></div></div></div></div><div class=\"sk-item sk-dashed-wrapped\"><div class=\"sk-label-container\"><div class=\"sk-label fitted sk-toggleable\"><input class=\"sk-toggleable__control sk-hidden--visually\" id=\"sk-estimator-id-25\" type=\"checkbox\" ><label for=\"sk-estimator-id-25\" class=\"sk-toggleable__label fitted sk-toggleable__label-arrow fitted\">&nbsp;feature_selector: RFECV<a class=\"sk-estimator-doc-link fitted\" rel=\"noreferrer\" target=\"_blank\" href=\"https://scikit-learn.org/1.5/modules/generated/sklearn.feature_selection.RFECV.html\">?<span>Documentation for feature_selector: RFECV</span></a></label><div class=\"sk-toggleable__content fitted\"><pre>RFECV(cv=5,\n",
       "      estimator=LogisticRegression(C=10.0, fit_intercept=False, max_iter=5000,\n",
       "                                   random_state=42, solver=&#x27;liblinear&#x27;),\n",
       "      min_features_to_select=9, scoring=&#x27;f1&#x27;, step=2)</pre></div> </div></div><div class=\"sk-parallel\"><div class=\"sk-parallel-item\"><div class=\"sk-item\"><div class=\"sk-label-container\"><div class=\"sk-label fitted sk-toggleable\"><input class=\"sk-toggleable__control sk-hidden--visually\" id=\"sk-estimator-id-26\" type=\"checkbox\" ><label for=\"sk-estimator-id-26\" class=\"sk-toggleable__label fitted sk-toggleable__label-arrow fitted\">estimator: LogisticRegression</label><div class=\"sk-toggleable__content fitted\"><pre>LogisticRegression(C=10.0, fit_intercept=False, max_iter=5000, random_state=42,\n",
       "                   solver=&#x27;liblinear&#x27;)</pre></div> </div></div><div class=\"sk-serial\"><div class=\"sk-item\"><div class=\"sk-estimator fitted sk-toggleable\"><input class=\"sk-toggleable__control sk-hidden--visually\" id=\"sk-estimator-id-27\" type=\"checkbox\" ><label for=\"sk-estimator-id-27\" class=\"sk-toggleable__label fitted sk-toggleable__label-arrow fitted\">&nbsp;LogisticRegression<a class=\"sk-estimator-doc-link fitted\" rel=\"noreferrer\" target=\"_blank\" href=\"https://scikit-learn.org/1.5/modules/generated/sklearn.linear_model.LogisticRegression.html\">?<span>Documentation for LogisticRegression</span></a></label><div class=\"sk-toggleable__content fitted\"><pre>LogisticRegression(C=10.0, fit_intercept=False, max_iter=5000, random_state=42,\n",
       "                   solver=&#x27;liblinear&#x27;)</pre></div> </div></div></div></div></div></div></div></div></div></div></div>"
      ]
     },
     "execution_count": 23,
     "metadata": {},
     "output_type": "execute_result"
    }
   ],
   "execution_count": 23
  },
  {
   "metadata": {
    "ExecuteTime": {
     "end_time": "2024-12-19T04:09:26.499702Z",
     "start_time": "2024-12-19T04:09:26.450036Z"
    }
   },
   "cell_type": "code",
   "source": [
    "y_test_pred = best_model.predict(X_test)\n",
    "metrics = model_metrics(y_test, y_test_pred, \"Test Set Metrics\")"
   ],
   "id": "1faa801811a43fa1",
   "outputs": [
    {
     "data": {
      "text/plain": [
       "<Figure size 500x300 with 1 Axes>"
      ],
      "image/png": "[encoded data removed]"
     },
     "metadata": {},
     "output_type": "display_data"
    }
   ],
   "execution_count": 24
  },
  {
   "metadata": {},
   "cell_type": "markdown",
   "source": [
    "### Test data results\n",
    "The combination of RFECV and Logistic regression has resulted in a substantially improved model, beyond our uncertainty of +/- 0.05 for the F1 score. Only incorrectly classifying 7 patients from the test set. Interestingly, the `liblinear` solver was chosen, it's possible that made a substantial difference to the model alone, since we were initially testing only with `lbfgs`"
   ],
   "id": "5cad740dea9f0284"
  },
  {
   "metadata": {
    "ExecuteTime": {
     "end_time": "2024-12-19T04:09:26.568169Z",
     "start_time": "2024-12-19T04:09:26.563969Z"
    }
   },
   "cell_type": "code",
   "source": [
    "# Get the feature names from the ColumnTransformer\n",
    "feature_names = scaling_encoding.get_feature_names_out()\n",
    "\n",
    "# Get the support mask from RFECV to know which of the features fed in were active\n",
    "support_mask = grid_search.best_estimator_.named_steps['feature_selector'].support_\n",
    "\n",
    "# Combine selected feature names from the preprocessor transformer and coefficients into a DataFrame for better readability\n",
    "coefficients = best_model.named_steps['feature_selector'].estimator_.coef_[0]\n",
    "\n",
    "# Select supported feature names\n",
    "selected_feature_names = [name for i, name in enumerate(feature_names) if support_mask[i]]\n",
    "\n",
    "# Create a DataFrame of feature coefficients\n",
    "feature_coefficients = pd.DataFrame({\n",
    "\t'Feature': selected_feature_names,\n",
    "\t'Coefficient': coefficients\n",
    "}).sort_values(by='Coefficient', ascending=False)\n",
    "\n",
    "# Display the result\n",
    "print(feature_coefficients)\n"
   ],
   "id": "62bafbb469bed1ef",
   "outputs": [
    {
     "name": "stdout",
     "output_type": "stream",
     "text": [
      "               Feature  Coefficient\n",
      "2           ca_num__ca     4.428990\n",
      "1     oldpeak__oldpeak     2.480035\n",
      "13            sex__sex     1.488919\n",
      "4             cp__cp_4     1.084605\n",
      "12        exang__exang     0.839831\n",
      "10      thal__thal_6.0     0.657601\n",
      "0         num__thalach    -0.474049\n",
      "11      thal__thal_7.0    -0.655893\n",
      "3             cp__cp_1    -0.865638\n",
      "6   restecg__restecg_2    -0.970917\n",
      "5   restecg__restecg_0    -1.097088\n",
      "7       slope__slope_1    -1.204445\n",
      "8       slope__slope_3    -1.774847\n",
      "9       thal__thal_3.0    -1.926774\n"
     ]
    }
   ],
   "execution_count": 25
  },
  {
   "metadata": {
    "ExecuteTime": {
     "end_time": "2024-12-19T04:09:26.635019Z",
     "start_time": "2024-12-19T04:09:26.630534Z"
    }
   },
   "cell_type": "code",
   "source": "heart_disease['restecg'].value_counts()",
   "id": "3e1169265843c219",
   "outputs": [
    {
     "data": {
      "text/plain": [
       "restecg\n",
       "0    147\n",
       "2    146\n",
       "1      4\n",
       "Name: count, dtype: int64"
      ]
     },
     "execution_count": 26,
     "metadata": {},
     "output_type": "execute_result"
    }
   ],
   "execution_count": 26
  },
  {
   "metadata": {
    "ExecuteTime": {
     "end_time": "2024-12-19T04:09:26.716534Z",
     "start_time": "2024-12-19T04:09:26.712680Z"
    }
   },
   "cell_type": "code",
   "source": "heart_disease['slope'].value_counts()",
   "id": "3227d56974188887",
   "outputs": [
    {
     "data": {
      "text/plain": [
       "slope\n",
       "1    139\n",
       "2    137\n",
       "3     21\n",
       "Name: count, dtype: int64"
      ]
     },
     "execution_count": 27,
     "metadata": {},
     "output_type": "execute_result"
    }
   ],
   "execution_count": 27
  },
  {
   "metadata": {
    "ExecuteTime": {
     "end_time": "2024-12-19T04:09:26.762626Z",
     "start_time": "2024-12-19T04:09:26.759308Z"
    }
   },
   "cell_type": "code",
   "source": "heart_disease['cp'].value_counts()",
   "id": "8a56542d704975c3",
   "outputs": [
    {
     "data": {
      "text/plain": [
       "cp\n",
       "4    142\n",
       "3     83\n",
       "2     49\n",
       "1     23\n",
       "Name: count, dtype: int64"
      ]
     },
     "execution_count": 28,
     "metadata": {},
     "output_type": "execute_result"
    }
   ],
   "execution_count": 28
  },
  {
   "metadata": {},
   "cell_type": "markdown",
   "source": [
    "### Coefficients of selected features for final logistic regression model\n",
    "The selected features and their coefficients are not too dissimilar from what was ordered in the earlier model\n",
    "\n",
    "#### Positive predictors\n",
    "- `ca` the number of blood vessels has a strong predictive power\n",
    "- `oldpeak` the depression after exercise relative to rest, a strong indicator something is wrong if the heart isn't returning to normal rhythm after exercise\n",
    "- `sex` the gender of the patient still is a strong predictor\n",
    "- `cp` chest pain type that is asymptomatic\n",
    "- `exang` exercise angina, not surprising it's a positive predictor for heart disease\n",
    "- `thal` only fixed defects for Thalassemia seem to predict, however if we recall there was only 18 cases of this, so not likely a useful predictor going out to a large dataset\n",
    "#### Negative predictors\n",
    "- `thal` reversible or no defects for Thalassemia strongly predict absence of heart disease, the\n",
    "- `thalach` maximum heart rate achieved, predicting the absence of heart disease is makes sense, there is some research that indicates beta blockers have an impact on the test. The original data set does contain information about the patients if they are using beta blockers\n",
    "- `slope` so long as the ST slope is not flat, the model predicts an absence of heart disease.\n",
    "- `restecg` left ventricular hypertrophy is slightly more predictive of heart disease than a normal ECG"
   ],
   "id": "642ca0ad53c02897"
  },
  {
   "metadata": {},
   "cell_type": "markdown",
   "source": [
    "\n",
    "## Conclusion and next steps\n",
    "We created a model using a GridSearch with cross validation, to recursively eliminate features with cross validation, to find the best logistic regression model.\n",
    "\n",
    "We achieved an F1 score of 0.91, with only 7 of the 90 patients from the test set being predicted incorrectly.\n",
    "\n",
    "### Model caveats\n",
    "There are some features that could be dropped or considered unreliable given how little data for some categorical values was seen. There is also likely some cross correlation between these predictors and potential nonlinear effects that the training data doesn't reveal.\n",
    "\n",
    "### Next steps\n",
    "With the pipeline constructed, optimising for scaling and encoding of the model features before training could yield better results. Given the limited number of samples, putting some of the numerical features into discrete bins could be worth investigating, as well as trying Quantile Transformers.\n",
    "\n",
    "Loading in the full dataset, with all 74 columns would allow us to potentially account for the beta blocker effects, but 300 samples and 74 features into 4, rather than just 2 classifications is not likely to build a robust model.\n",
    "\n",
    "Based upon domain expertise, whether minimising false positives or false negatives is the goal, we could also change the scoring to make a model that's better at not missing heart disease or not wasting medical resources.\n"
   ],
   "id": "42a354f696048284"
  }
 ],
 "metadata": {
  "kernelspec": {
   "display_name": "Python 3",
   "language": "python",
   "name": "python3"
  },
  "language_info": {
   "codemirror_mode": {
    "name": "ipython",
    "version": 2
   },
   "file_extension": ".py",
   "mimetype": "text/x-python",
   "name": "python",
   "nbconvert_exporter": "python",
   "pygments_lexer": "ipython2",
   "version": "2.7.6"
  }
 },
 "nbformat": 4,
 "nbformat_minor": 5
}
